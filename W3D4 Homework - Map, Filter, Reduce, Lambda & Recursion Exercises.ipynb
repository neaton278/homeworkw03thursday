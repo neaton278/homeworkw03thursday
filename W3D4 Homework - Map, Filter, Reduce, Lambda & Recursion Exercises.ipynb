{
 "cells": [
  {
   "cell_type": "code",
   "execution_count": 18,
   "id": "b96dd984",
   "metadata": {},
   "outputs": [
    {
     "name": "stdout",
     "output_type": "stream",
     "text": [
      "['Argentina', 'San Diego', 'Boston', 'New York']\n"
     ]
    }
   ],
   "source": [
    "### Exercise #1 Filter out all of the empty strings from the list below\n",
    "\n",
    "\n",
    "places = [' ', 'Argentina', '  ', 'San Diego', '', '   ', '', 'Boston', 'New York']\n",
    "better_list = list(filter(lambda x : len(x)> 4 , places))\n",
    "print(better_list)"
   ]
  },
  {
   "cell_type": "code",
   "execution_count": 19,
   "id": "6f4c1e71",
   "metadata": {},
   "outputs": [
    {
     "name": "stdout",
     "output_type": "stream",
     "text": [
      "['Milliken', 'Anisimov', 'Garfield', 'Hasselhoff', 'Winfrey']\n"
     ]
    }
   ],
   "source": [
    "### Exercise #2 Write an anonymous function that sorts this list by the last name...\n",
    "\n",
    "\n",
    "\n",
    "authors = [\"Connor Milliken\", \"Victor aNisimov\", \"Andrew P. Garfield\", \"David HassELHOFF\", \"Oprah wInfrey\"]\n",
    "a_lower = list(map(str.lower,authors))\n",
    "a_title = list(map(str.title,a_lower))\n",
    "lastname = []\n",
    "for i in range(0,len(a_title)):\n",
    "    lastname.append(a_title[i].split()[-1])\n",
    "print(lastname)"
   ]
  },
  {
   "cell_type": "code",
   "execution_count": 21,
   "id": "0cf9f484",
   "metadata": {},
   "outputs": [
    {
     "name": "stdout",
     "output_type": "stream",
     "text": [
      "('Nassau', 89.6)\n",
      "('Boston', 53.6)\n",
      "('Los Angeles', 111.2)\n",
      "('Miami', 84.2)\n"
     ]
    }
   ],
   "source": [
    "### Exercise #3 Convert the list below from Celsius to Farhenheit, using the map function with a lambda...\n",
    "\n",
    "\n",
    "places = [('Nassau', 32), ('Boston', 12), ('Los Angeles', 44), ('Miami', 29)]\n",
    "\n",
    "# F = (1.8*C)+32 \n",
    "temps = [item[1] for item in places]\n",
    "#print(temps)\n",
    "f =list(map(lambda x : (1.8*x) + 32, temps))\n",
    "#print (f)\n",
    "places_1 = [item[0] for item in places]\n",
    "#print(places_1)\n",
    "\n",
    "import itertools\n",
    "for i in zip(['Nassau', 'Boston', 'Los Angeles', 'Miami'], [89.6, 53.6, 111.2, 84.2]):\n",
    "    print (i)"
   ]
  },
  {
   "cell_type": "code",
   "execution_count": 3,
   "id": "2afb05a5",
   "metadata": {},
   "outputs": [
    {
     "name": "stdout",
     "output_type": "stream",
     "text": [
      "Please enter the number of members of the sequence:6\n",
      "The fibonacci sequence:\n",
      "0\n",
      "1\n",
      "1\n",
      "2\n",
      "3\n",
      "5\n"
     ]
    }
   ],
   "source": [
    "### Exercise #4 Write a recursive function to perform the fibonacci sequence up to the number passed in.\n",
    "\n",
    "\n",
    "def fibonacci(n):\n",
    "    if (n <= 1):\n",
    "        return n\n",
    "    else:\n",
    "        return (fibonacci(n-1) + fibonacci(n-2))\n",
    "n = int(input(\"Please enter the number of members of the sequence:\"))\n",
    "print(\"The fibonacci sequence:\")\n",
    "for i in range(n):\n",
    "    print(fibonacci(i))"
   ]
  }
 ],
 "metadata": {
  "kernelspec": {
   "display_name": "Python 3",
   "language": "python",
   "name": "python3"
  },
  "language_info": {
   "codemirror_mode": {
    "name": "ipython",
    "version": 3
   },
   "file_extension": ".py",
   "mimetype": "text/x-python",
   "name": "python",
   "nbconvert_exporter": "python",
   "pygments_lexer": "ipython3",
   "version": "3.8.8"
  }
 },
 "nbformat": 4,
 "nbformat_minor": 5
}
